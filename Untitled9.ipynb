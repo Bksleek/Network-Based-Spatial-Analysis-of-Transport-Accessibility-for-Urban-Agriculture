{
  "nbformat": 4,
  "nbformat_minor": 0,
  "metadata": {
    "colab": {
      "provenance": []
    },
    "kernelspec": {
      "name": "python3",
      "display_name": "Python 3"
    },
    "language_info": {
      "name": "python"
    }
  },
  "cells": [
    {
      "cell_type": "markdown",
      "source": [
        "**Section 1**\n",
        "# Assessing the Impact of Transport Accessibility on the Efficiency of Urban Agriculture in Northern Nigerian Cities\n",
        "\n",
        "## Overview\n",
        "This project applies a network-based geospatial method to evaluate how transport accessibility influence the efficiency of urban agriculture in five Northern Nigerian cities: Kano, Kaduna, Sokoto, Maiduguri, and Jos.\n",
        "\n",
        "## Research Goals:\n",
        "- Collect spatial and climate data for key agricultural sites in the five cities.\n",
        "- Measure and visualize road-network-based travel distances from each site to the nearest city center.\n",
        "- Analyze correlations between accessibility, climate, and farming efficiency.\n",
        "- Produce maps and plots using Python libraries.\n",
        "\n",
        "## Methods Used:\n",
        "- Network-based accessibility analysis (using OSMnx & NetworkX)\n",
        "- Environmental data extraction (NASA POWER API)\n",
        "- Geopandas, Pandas, Matplotlib & Seaborn for visualization and analysis\n"
      ],
      "metadata": {
        "id": "UR4K57O_Simp"
      }
    },
    {
      "cell_type": "markdown",
      "source": [
        "**Section 2**"
      ],
      "metadata": {
        "id": "i2SxmuquTm9e"
      }
    },
    {
      "cell_type": "code",
      "source": [
        "import pandas as pd\n",
        "\n",
        "# Farming location data\n",
        "data = {\n",
        "    \"city\": [\"Kano\", \"Kano\", \"Kano\", \"Kaduna\", \"Kaduna\", \"Kaduna\", \"Sokoto\", \"Sokoto\", \"Sokoto\",\n",
        "             \"Maiduguri\", \"Maiduguri\", \"Maiduguri\", \"Jos\", \"Jos\", \"Jos\"],\n",
        "    \"location\": [\"Kadawa Irrigation Scheme\", \"Bunkure Agricultural Area\", \"Bagwai Farming Region\",\n",
        "                 \"Kachia Grazing Reserve\", \"Birnin Gwari Farming Area\", \"Igabi Farming Cluster\",\n",
        "                 \"Illela Agricultural Area\", \"Tambuwal Farming Zone\", \"Wurno Irrigation Fields\",\n",
        "                 \"Konduga Farming Area\", \"Jere Irrigated Fields\", \"Bama Agricultural Land\",\n",
        "                 \"Barkin Ladi Farms\", \"Riyom Farming Area\", \"Jos South Peri-Urban Farms\"],\n",
        "    \"latitude\": [11.6265, 11.6752, 12.1602, 9.8672, 10.6401, 10.6823, 13.7258, 12.41, 13.2737,\n",
        "                 11.6574, 11.8439, 11.52, 9.5433, 9.4934, 9.7494],\n",
        "    \"longitude\": [8.4769, 8.5304, 8.0816, 7.9521, 6.5415, 7.3734, 5.2986, 4.641, 5.4235,\n",
        "                  13.4162, 13.2132, 13.69, 8.8891, 8.7242, 8.8662]\n",
        "}\n",
        "df_farms = pd.DataFrame(data)\n",
        "df_farms.head()"
      ],
      "metadata": {
        "id": "-lZrqduSTV5M"
      },
      "execution_count": null,
      "outputs": []
    }
  ]
}